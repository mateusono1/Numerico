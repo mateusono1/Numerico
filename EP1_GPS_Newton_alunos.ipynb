{
  "cells": [
    {
      "cell_type": "markdown",
      "metadata": {
        "id": "puVdXRHdh1JK"
      },
      "source": [
        "# MAP3121 - Exercício programa 1 - 2025 - Turmas 4 a 11\n",
        "\n",
        "## GPS e o Método de Newton"
      ]
    },
    {
      "cell_type": "markdown",
      "metadata": {
        "id": "vbvUFUxClBkQ"
      },
      "source": [
        "## O sistema de posicionamento global\n",
        "\n",
        "<p align = \"justify\">O Sistema de Posicionamento Global (GPS, sigla do nome em inglês) é um\n",
        "sistema de navegação formado por uma rede de pelo menos 24 satélites orbitando a Terra e\n",
        "transmitindo sinais para os receptores GPS, que usam triangulação para calcular\n",
        "a localização do usuário. Na descrição a seguir, o sistema de coordenadas tem\n",
        "sua origem $O$ no centro da Terra, o eixo $Oz$ positivo aponta na direção do Polo\n",
        "Norte, o plano $Oxy$ é o plano do equador com o eixo $Ox$ positivo cortando o\n",
        "meridiano de Greenwich e o eixo $Oy$ positivo corta o meridiano de longitude\n",
        "$90^{\\circ}$E.</p>\n",
        "\n",
        "<p align = \"justify\">Um dado satélite $i$ transmite a sua posição atual $(x_i , y_i , z_i)$ e o instante $te_i$\n",
        "de emissão do sinal. O receptor GPS grava esta informação juntamente com\n",
        "o instante $tr_i$ da recepção do sinal. Entretanto, o relógio do receptor é menos\n",
        "preciso do que o relógio do satélite, havendo um erro de sincronia $T$ . O instante\n",
        "correto da recepção é $tr_i - T$ . Se $T > 0$ o relógio do receptor está adiantado e\n",
        "se $T < 0$ ele está atrasado.</p>\n",
        "\n",
        "<p align = \"justify\">Portanto, o tempo que o sinal leva do satélite ao receptor é $t_i - T$ , onde\n",
        "$t_i = tr_i - te_i$ é o lapso de tempo aparente, e o receptor deve estar na superfı́cie\n",
        "da esfera de raio $c(t_i - T)$ e centro $(x_i , y_i , z_i)$, onde $c = 299792458$ m/s é a\n",
        "velocidade da luz no vácuo. As coordenadas $(x, y, z)$ do receptor devem então\n",
        "satisfazer a relação</p>\n",
        "\n",
        "\\begin{equation*}\n",
        "  (x - x_i)^2 + (y - y_i)^2 + (z - z_i)^2 = (w_i - w)^2\n",
        "\\end{equation*}\n",
        "\n",
        "<p align = \"justify\">em que $w_i = ct_i$ e $w = cT$ (ao multiplicarmos por c, ficamos apenas com dimensões\n",
        "espaciais).</p>\n",
        "\n",
        "<p align = \"justify\">Em qualquer instante, dados de 5 a 8 satélites são obtidos pelo receptor em\n",
        "qualquer ponto da terra. Então, assumindo que temos dados de $n > 4$ satélites,\n",
        "as 4 incógnitas $(x, y, z, w)$ devem satisfazer as equações</p>\n",
        "\n",
        "\\begin{equation}\n",
        "  r_i(x,y,z,w) = (x - x_i)^2 + (y - y_i)^2 + (z - z_i)^2 - (w_i - w)^2 = 0, \\tag{1}\n",
        "\\end{equation}\n",
        "\n",
        "<p align = \"justify\">$1 \\le i \\le n$, que formam um sistema não-linear sobredeterminado. Como as\n",
        "medidas estão sujeitas a erros, este sistema em geral não tem solução (se não\n",
        "houvesse erros, bastaria resolver 4 das n equações).</p>"
      ]
    },
    {
      "cell_type": "markdown",
      "metadata": {
        "id": "IE6zOZ9ZxOnU"
      },
      "source": [
        "## Mínimos quadrados não-lineares\n",
        "\n",
        "Uma maneira de se resolver o problema acima é tratá-lo como um problema\n",
        "de mı́nimos quadrados, procurando-se **minimizar a soma dos quadrados dos resı́duos** $r_i$ , ou seja, determinando-se $\\bar x$, $\\bar y$, $\\bar z$ e $\\bar w$ que minimizam\n",
        "\n",
        "$$\n",
        "  g(x,y,z,w) = \\sum_{i=1}^n r_i(x,y,z,w)^2.\n",
        "$$\n",
        "\n",
        "Uma condição necessária que um ponto de mínimo deve satisfazer é\n",
        "\n",
        "\\begin{equation}\n",
        "  \\nabla g(x, y, z, w) = 0 \\tag{2}\n",
        "\\end{equation}\n",
        "\n",
        "<p align = \"justify\">em que $\\nabla g$ é o gradiente de $g$ em relação a $x$, $y$, $z$ e $w$. A condição acima é um\n",
        "sistema não-linear de 4 equações e 4 incógnitas, que será resolvido usando o\n",
        "método de Newton.</p>"
      ]
    },
    {
      "cell_type": "markdown",
      "metadata": {
        "id": "4H0HEkLT7O5f"
      },
      "source": [
        "## Mínimos quadrados lineares\n",
        "\n",
        "<p align = \"justify\">Suponha que as equações $(1)$ são exatas. Se subtrairmos a equação $n$ da\n",
        "equação $i$, os termos quadráticos cancelam e portanto das relações</p>\n",
        "\n",
        "\\begin{equation}\n",
        "  r_i(x,y,z,w) - r_n(x,y,z,w) = 0,\\quad 1 \\le i \\le n-1 \\tag{3}\n",
        "\\end{equation}\n",
        "\n",
        "<p align = \"justify\">obtemos um sistema linear sobredeterminado para as incógnitas que pode ser\n",
        "resolvido no sentido de mı́nimos quadrados como foi visto\n",
        "em aula.</p>\n",
        "\n",
        "<p align = \"justify\">Se $A$ denota a matriz do sistema linear, $\\mathbf{x}$ o vetor incógnita e $\\mathbf{b}$ o lado\n",
        "direito do sistema linear, a solução de $A\\mathbf{x} = \\mathbf{b}$ no sentido de mı́nimos quadrados\n",
        "é a solução do sistema normal $A^TA\\mathbf{x} = A^T\\mathbf{b}$. Esta solução pode ser usada\n",
        "como uma aproximação em si para a localização usando GPS, e também como\n",
        "aproximação inicial para a resolução de $(2)$ usando o método de Newton.</p>"
      ]
    },
    {
      "cell_type": "markdown",
      "metadata": {
        "id": "atZyyNoe81d4"
      },
      "source": [
        "## ❗Exercício 1\n",
        "\n",
        "<p align = \"justify\">Escreva explicitamente o sistema não-linear $(2)$ e o sistema linear sobredeterminado $(3)$. Você não precisa entregar as respostas. Conhecê-las é importante para as implementações.</p>"
      ]
    },
    {
      "cell_type": "markdown",
      "metadata": {
        "id": "IQKvbJlSQcJb"
      },
      "source": [
        "## Método de Newton para sistemas não lineares\n",
        "\n",
        "<p align = \"justify\">Vamos descrever o método de Newton para determinação de raı́zes de funções $F(x)$ de $\\mathbb{R}^n$ em $\\mathbb{R}^n$. Como no caso unidimensional, parte-se de uma aproximação inicial $x^{0}$ para o valor $\\bar{x}\\in\\mathbb{R}^n$ tal que $F(\\bar{x})=0$ e calcula-se a sequência\n",
        "\n",
        "$$\n",
        "  x^{(k+1)} = x^{(k)} - J_F^{-1}(x^{(k)})F(x^{(k)})\n",
        "$$\n",
        "em que $J_F(x)$ é a matriz Jacobiana de $F$avaliada no ponto $x$:\n",
        "\n",
        "$$\n",
        "  J_F(x) = \\left[\\begin{array}{cccc}\n",
        "  \\frac{\\partial F_1(x)}{\\partial x_1} & \\frac{\\partial F_1(x)}{\\partial x_2} & \\cdots & \\frac{\\partial F_1(x)}{\\partial x_n}\\\\\n",
        "  \\frac{\\partial F_2(x)}{\\partial x_1} & \\frac{\\partial F_2(x)}{\\partial x_2} & \\cdots & \\frac{\\partial F_2(x)}{\\partial x_n}\\\\\n",
        "  \\vdots & \\vdots & \\cdots & \\vdots\\\\\n",
        "  \\frac{\\partial F_n(x)}{\\partial x_1} & \\frac{\\partial F_n(x)}{\\partial x_2} & \\cdots & \\frac{\\partial F_n(x)}{\\partial x_n}\n",
        "  \\end{array}\\right],\n",
        "$$\n",
        "\n",
        "onde $F_1(x)$, $F_2(x)$, $\\cdots$, $F_n(x)$ são as componentes de $F(x)$.</p>\n",
        "\n",
        "Se reescrevermos as iterações do Método de Newton como\n",
        "\n",
        "$$\n",
        "  J_F(x^{(k)})(x^{(k+1)}-x^{(k)}) = -F(x^{(k)}),\n",
        "$$\n",
        "\n",
        "<p align = \"justify\">é possível perceber que não é necessário inverter a matriz Jacobiana de $F$ a cada passo, que seria muito custoso. A cada passo do Método de Newton, resolve-se o sistema linear</p>\n",
        "\n",
        "$$\n",
        "  J_F(x^{(k)})\\cdot\\mathbf{c} = -F(x^{(k)})\n",
        "$$\n",
        "\n",
        "e calcula-se a nova aproximação como\n",
        "\n",
        "$$\n",
        "  x^{(k+1)} = x^{(k)} + \\mathbf{c}\n",
        "$$\n",
        "\n",
        "<p align = \"justify\">Quando F é de classe\n",
        "$C^2$ e a matriz Jacobiana é não singular na raiz de $F$ (ou seja, tem determinante\n",
        "não nulo), pode-se mostrar que o método de Newton converge quadraticamente\n",
        "para a raiz de $F$ , desde que $x^{(0)}$ seja escolhido suficientemente próximo da raiz.</p>"
      ]
    },
    {
      "cell_type": "markdown",
      "metadata": {
        "id": "0eJZZ2BloA_p"
      },
      "source": [
        "## ❗Exercício 2\n",
        "\n",
        "Para $F(x,y,z,w) = \\nabla g(x,y,z,w)$, qual é a expressão para $J_F(x,y,z,w)$?"
      ]
    },
    {
      "cell_type": "markdown",
      "metadata": {
        "id": "UUTxthhOqVjR"
      },
      "source": [
        "# Tarefa\n",
        "\n",
        "<p align = \"justify\">Você deve implementar um algoritmo para resolver um sistema não linear com $m$ equações e $m$ incógnitas.\n",
        "Várias funções são necessárias para esta implementação. Comecemos por carregar o numpy. É o $\\mathbf{único}$ módulo do Python que você irá usar.</p>"
      ]
    },
    {
      "cell_type": "code",
      "execution_count": 1,
      "metadata": {
        "id": "EJ87seS26vQG"
      },
      "outputs": [],
      "source": [
        "import numpy as np"
      ]
    },
    {
      "cell_type": "markdown",
      "metadata": {
        "id": "hbl3PYg_uKdi"
      },
      "source": [
        "## Resolução de sistemas lineares\n",
        "\n",
        "Implemente a decomposição $LU$ de uma matriz $A$, com condensação pivotal, de acordo com o algoritmo\n",
        "\n",
        "Dados $n$ e uma matrz $A$ (n\\times n)$ temos:\n",
        "\n",
        "&ensp;  $\\bullet$ Para $k$ de $1$ a $n$ faça\n",
        "\n",
        "&emsp; &emsp; - para $i$ de $k$ a $n$ faça $$a_{ik}=a_{ik}-\\sum_{j=1}^{k-1}a_{ij}*a_{jk}$$\n",
        "\n",
        "&emsp; &emsp; - Determine $l\\ge k$ tal que $\\vert a_{lk}\\vert=\\max_{k\\le i\\le n}\\vert a_{ik}\\vert$\n",
        "\n",
        "&emsp; &emsp; - defina $p(k)=l$\n",
        "\n",
        "&emsp; &emsp; - se $k\\ne p(k)$ troque as linhas $k$ e $p(k)$ da matriz $A$\n",
        "\n",
        "&emsp; &emsp; - para $j$ de $k+1$ a $n$ faça \\begin{align} &a_{kj}=a_{kj}-\\sum_{i=1}^{k-1}a_{ki}*a_{ij}\\\\ &a_{jk} = a_{jk}/a_{kk}\\end{align}\n",
        "\n",
        "**Observações:**\n",
        "\n",
        "1. Ao final do algoritmo a matriz $L$ tem seus valores abaixo da diagonal\n",
        "principal armazenados nas posições correspondentes de A (lembre-se que\n",
        "a diagonal de L é composta de $1'$s).\n",
        "\n",
        "2. A matriz $U$ tem seus valores da diagonal principal e acima desta armazenados nas posições correspondentes de $A$.\n",
        "\n",
        "3. A decomposição $LU$ calculada corresponde à matriz $A$ permutada. As permutações realizadas estão armazenadas no vetor $p$ definido no algoritmo.\n",
        "\n",
        "4. Lembre-se que ao final do algoritmo a matriz $A$ foi modificada. Caso esta\n",
        "ainda seja necessária, uma cópia sua deve ser anteriormente salva.\n",
        "\n",
        "5. Somatórios de $1$ a $0$ e loops de $n + 1$ a $n$ devem ser entendidos como vazios."
      ]
    },
    {
      "cell_type": "code",
      "execution_count": 2,
      "metadata": {
        "id": "dZCHvB9stgPP"
      },
      "outputs": [
        {
          "data": {
            "text/plain": [
              "array([[ 5.  , -2.  ,  3.  ],\n",
              "       [ 0.2 ,  6.4 ,  3.4 ],\n",
              "       [ 0.4 ,  0.75, -2.75]])"
            ]
          },
          "execution_count": 2,
          "metadata": {},
          "output_type": "execute_result"
        }
      ],
      "source": [
        "def lu_dcmp(A):\n",
        "    \"\"\"\n",
        "    Decomposição LU com pivoteamento parcial, conforme algoritmo fornecido.\n",
        "    Armazena L (sem a diagonal principal) na parte inferior de A_cp e U na parte superior.\n",
        "    \n",
        "    Entradas:\n",
        "    - A: matriz quadrada (numpy.ndarray)\n",
        "\n",
        "    Saídas:\n",
        "    - A_cp: matriz com L e U sobrepostas\n",
        "    - p: vetor de permutação de linhas\n",
        "    \"\"\"\n",
        "    A_cp = A.copy().astype(float)\n",
        "    n = A_cp.shape[0]\n",
        "    p = np.arange(n)\n",
        "\n",
        "\n",
        "    for k in range(n):\n",
        "        max_row = np.argmax(np.abs(A_cp[k:n, k])) + k\n",
        "\n",
        "        # Troca de linhas na matriz A_cp e no vetor de permutação p\n",
        "        if max_row != k:\n",
        "            A_cp[[k, max_row], :] = A_cp[[max_row, k], :]\n",
        "            p[[k, max_row]] = p[[max_row, k]]\n",
        "\n",
        "        # Eliminação de Gauss\n",
        "        for i in range(k+1, n):\n",
        "            A_cp[i, k] /= A_cp[k, k]             \n",
        "            A_cp[i, k+1:n] -= A_cp[i, k] * A_cp[k, k+1:n]\n",
        "\n",
        "    return A_cp, p\n",
        "\n",
        "A = np.array([[2,4,1], [5,-2,3], [1,6,4]])\n",
        "a_permutado,p=lu_dcmp(A)\n",
        "a_permutado\n"
      ]
    },
    {
      "cell_type": "markdown",
      "metadata": {
        "id": "fPmwBIHtTIjs"
      },
      "source": [
        "Uma vez obtida a decomposição $LU$ da matriz $A$, calcule a solução do sistema linear $A\\mathbf{x} = \\mathbf{b}$."
      ]
    },
    {
      "cell_type": "code",
      "execution_count": 3,
      "metadata": {
        "id": "SIwRARPYTo0e"
      },
      "outputs": [
        {
          "data": {
            "text/plain": [
              "array([ 5.82867088e-16,  2.00000000e+00, -3.00000000e+00])"
            ]
          },
          "execution_count": 3,
          "metadata": {},
          "output_type": "execute_result"
        }
      ],
      "source": [
        "#def lu_solve(LU, p, b):\n",
        "\n",
        "def lu_solve(LU,p,b):\n",
        "    \"\"\"\n",
        "    Calcula a solução de um sistema linear Ax = b, dada a decomposição LU de A e o vetor de permutações.\n",
        "\n",
        "    Uso da função:\n",
        "        x = lu_solve(LU, p, b)\n",
        "\n",
        "    Entradas:\n",
        "    - LU: matriz quadrada de tamanho n,\n",
        "            contendo a matriz U em sua parte triangular superior (incluindo a diagonal)\n",
        "            e a matriz L (apenas a parte abaixo da diagonal) em sua parte triangular inferior.\n",
        "            A diagonal de L não é armazenada.\n",
        "    - p: vetor de tamanho n, contendo os índices das linhas permutadas em cada etapa da condensação pivotal.\n",
        "    - b: vetor de tamanho n (lado direito do sistema linear)\n",
        "\n",
        "    Saída:\n",
        "    - x: vetor de tamanho n (solução do sistema linear)\n",
        "    \"\"\"\n",
        "    # A partir da decomposição LU da matriz A com condensação pivotal\n",
        "    # resolve o sistema linear Ax = b\n",
        "\n",
        "    #***SEU PROGRAMA AQUI\n",
        "\n",
        "    # Calulando a matriz L e U a partir de LU\n",
        "    n = int(LU[0].shape[0])\n",
        "    L = np.zeros((n, n))\n",
        "    U = np.zeros((n, n))\n",
        "    for i in range(n):\n",
        "        for j in range(n):\n",
        "            if i > j:\n",
        "                L[i, j] = LU[i, j]\n",
        "            elif i == j:\n",
        "                L[i, j] = 1\n",
        "                U[i, j] = LU[i, j]\n",
        "            else:\n",
        "                U[i, j] = LU[i, j]\n",
        "    \n",
        "    #Ajustanto p\n",
        "    ordem_p=len(p)\n",
        "    I= np.eye(ordem_p)\n",
        "    p_identidade=I[p]\n",
        "\n",
        "    # Calculando y=L^-1*p*b\n",
        "    L_inv = np.linalg.inv(L)\n",
        "    multipl_parcial = np.dot(L_inv, p_identidade)\n",
        "    y= np.dot(multipl_parcial, b)\n",
        "\n",
        "    #calculando x=U^-1*y\n",
        "    U_inv = np.linalg.inv(U)\n",
        "    x = np.dot(U_inv, y)\n",
        "\n",
        "    return x\n",
        "\n",
        "b=np.array([5,-13,0])\n",
        "lu_solve(a_permutado,p, b)"
      ]
    },
    {
      "cell_type": "markdown",
      "metadata": {
        "id": "att8yjFCU1SG"
      },
      "source": [
        "Com estas implementações, podemos usar o Método de Newton para a resolução de sistemas não lineares."
      ]
    },
    {
      "cell_type": "code",
      "execution_count": null,
      "metadata": {},
      "outputs": [],
      "source": []
    },
    {
      "cell_type": "code",
      "execution_count": 4,
      "metadata": {
        "id": "F8Qr4ffLYgrB"
      },
      "outputs": [],
      "source": [
        "def newton_sitemas(F, JF, x0, tol, max_iter):\n",
        "  \"\"\"\n",
        "  Método de Newton para aproximar a raiz de F com tolerância tol\n",
        "\n",
        "  Entradas:\n",
        "  - F: função a ser resolvida (o usuário deve implementar uma função\n",
        "        que recebe um vetor x e retorna um vetor F(x))\n",
        "  - JF: função que recebe um vetor x e retorna a matriz Jacobiana de F, JF(x)\n",
        "  - x0: aproximação inicial\n",
        "  - tol: tolerância desejada, usada no critério de parada\n",
        "  - max_iter: numero máximo de iterações\n",
        "\n",
        "  Saída:\n",
        "    - x: vetor com a aproximação da raiz de F dentro da tolerância especificada\n",
        "          (ou após o número máximo de iterações ser atingido)\n",
        "  \"\"\"\n",
        "  x = np.copy(x0)                  # x: aproximação em cada iteração\n",
        "\n",
        "\n",
        "\n",
        "  for k in range(max_iter):        # iterações\n",
        "\n",
        "    xold = np.copy(x)              # guarda a aproximação anterior\n",
        "\n",
        "    Fxk = F(x)              # calcula F em xk\n",
        "    JFxk = JF(x)             # calcula JF em xk\n",
        "\n",
        "    LU, p = lu_dcmp(JFxk)          # decomposição LU de JFxk\n",
        "    c = lu_solve(LU, p, -Fxk)      # resolve o sistema linear JFxk*c = -Fxk\n",
        "    x = xold + c                   # nova aproximação\n",
        "\n",
        "    norma_c = np.max(np.abs(c))    # norma da correção\n",
        "    norma_x = np.max(np.abs(x))    # norma de x\n",
        "    if norma_c < tol * norma_x:    # critério de parada (erro relativo)\n",
        "      break\n",
        "\n",
        "    print('Número de iterações:', k + 1)\n",
        "\n",
        "  return x\n"
      ]
    },
    {
      "cell_type": "markdown",
      "metadata": {
        "id": "MOqHUxGThjOu"
      },
      "source": [
        "## Testando a implementação do Método de Newton\n",
        "\n",
        "Para os dois testes abaixo, use $tol = 10^{-10}$.\n",
        "\n",
        "1. Calcule o ponto de mínimo da função $H(x,y) = (x-2)^2 + (y-3)^2$, determinando para tanto o ponto onde o seu gradiente se anula."
      ]
    },
    {
      "cell_type": "code",
      "execution_count": 9,
      "metadata": {
        "id": "EhM3SfZkkVfj"
      },
      "outputs": [
        {
          "name": "stdout",
          "output_type": "stream",
          "text": [
            "Número de iterações: 1\n",
            "[2. 3.]\n"
          ]
        }
      ],
      "source": [
        "# Gradiente de H(x, y)\n",
        "def F(x):\n",
        "    return np.array([\n",
        "        2 * (x[0] - 2),\n",
        "        2 * (x[1] - 3)\n",
        "    ])\n",
        "\n",
        "# Jacobiana do gradiente (Hessiana de H), que é constante neste caso\n",
        "def JF(x):\n",
        "    return np.array([\n",
        "        [2, 0],\n",
        "        [0, 2]\n",
        "    ])\n",
        "\n",
        "x0 = np.array([0, 1]) \n",
        "tol=1e-10\n",
        "max_iter=1000\n",
        "x = newton_sitemas(F, JF, x0, tol, max_iter)\n",
        "\n",
        "print(x)"
      ]
    },
    {
      "cell_type": "markdown",
      "metadata": {
        "id": "h5bEkdNbmY3m"
      },
      "source": [
        "Quantas iterações foram necessárias?\n",
        "**Resposta:** 1 interação\n",
        "\n",
        "A solução calculada é exata?         \n",
        "**Resposta:** Sim, é exata\n",
        "\n",
        "Você sabe explicar o resultado?      \n",
        "**Responda com uma frase:** "
      ]
    },
    {
      "cell_type": "markdown",
      "metadata": {
        "id": "7uEE9x5mnBJe"
      },
      "source": [
        "2. Dada a função $F(x_1,x_2,x_3,x_4) = (4x_1-x_2+x_3-x_1x_4, -x_1+3x_2-2x_3-x_2x_4,x_1-2x_2+3x_3-x_3x_4,x_1^2+x_2^2+x_3^2-1)$, determine a raiz que se\n",
        "obtém pelo método de Newton tomando $x_0 = (1, 1, 1, 1)$. Lembre-se de usar $tol = 10^{-10}$. Imprima a solução calculada."
      ]
    },
    {
      "cell_type": "code",
      "execution_count": 10,
      "metadata": {
        "id": "YPqj3Te-m9UT"
      },
      "outputs": [
        {
          "name": "stdout",
          "output_type": "stream",
          "text": [
            "Número de iterações: 1\n",
            "Número de iterações: 2\n",
            "Número de iterações: 3\n",
            "Número de iterações: 4\n",
            "Número de iterações: 5\n",
            "[1.51063318e-17 7.07106781e-01 7.07106781e-01 1.00000000e+00]\n"
          ]
        }
      ],
      "source": [
        "def F(x):\n",
        "    return np.array([\n",
        "        4*x[0] - x[1] + x[2] - x[0]*x[3],\n",
        "        -x[0] + 3*x[1] - 2*x[2] - x[1]*x[3],\n",
        "        x[0] - 2*x[1] + 3*x[2] - x[2]*x[3],\n",
        "        x[0]**2 + x[1]**2 + x[2]**2 - 1\n",
        "    ])\n",
        "\n",
        "def JF(x):\n",
        "    return np.array([\n",
        "        [4 - x[3], -1, 1, -x[0]],\n",
        "        [-1, 3 - x[3], -2, -x[1]],\n",
        "        [1, -2, 3 - x[3], -x[2]],\n",
        "        [2*x[0], 2*x[1], 2*x[2], 0]\n",
        "    ])\n",
        "\n",
        "x0 = np.array([1.0, 1.0, 1.0, 1.0])\n",
        "tol = 1e-10\n",
        "max_iter = 1000\n",
        "x = newton_sitemas(F, JF, x0, tol, max_iter)\n",
        "print(x)"
      ]
    },
    {
      "cell_type": "markdown",
      "metadata": {
        "id": "4K4mcWBUo6cH"
      },
      "source": [
        "## GPS\n",
        "\n",
        "Agora você irá usar o Método de Newton para calcular a posição $(x,y,z)$ e o erro de sincronia $T = w/c$ de um receptor de sinais de GPS. Os dados serão extraídos do arquivo *input_gps.txt* no qual estão armazenados números dispostos em $35$ linhas e $6$ colunas. Os dados estão associados a $5$ instantes de medidas e em cada instante foram usadas informações de $7$ de $25$ satélites disponíveis. Os intantes estão espaçados de $15$ em $15$ minutos.\n",
        "\n",
        "Para cada um destes instantes temos os valores $x_i$, $y_i$, $z_i$ e $w_i$ em metros, $1\\le i\\le 7$, usados de 7 satélites (os lapsos de tempo aparentes já foram convertidos para metros). Os dados no arquivo *input_gps.txt* estão dispostos da seguinte forma:\n",
        "\n",
        "> **Primeira coluna:** número identificando o satélite\n",
        "\n",
        "> **Segunda coluna:** instantes de medida (min) com os valores\n",
        "- Linhas $1$ a $7$: $\\quad \\ \\ \\ \\,0$\n",
        "- Linhas $8$ a $14$: $\\quad \\ \\,15$\n",
        "- Linhas $15$ a $21$: $\\quad 30$\n",
        "- Linhas $22$ a $28$: $\\quad 45$\n",
        "- Linhas $29$ a $35$: $\\quad 60$\n",
        "\n",
        "> **3ª, 4ª e 5ª colunas:** coordenadas dos $x_i$, $y_i$ e $z_i$ dos satélites, respectivamente, em metros\n",
        "\n",
        "> **Sexta coluna:** lapsos de tempo aparentes $w_i$, já convertidos em metros\n",
        "\n",
        "Você irá usar **somente os dados de $7$ satélites correspondentes a um único instante de medida**, calculado como o resto da divisão do seu número USP por $5$, multiplicado por $15$: $$t_m = (NUSP\\mod5)*15.$$\n",
        "\n",
        "Organize o seu programa da seguinte forma:\n",
        "\n",
        "1. Salve o conteúdo arquivo *input_gps.txt* em um numpy array com o nome input_gps. Extraia do array input_gps a parte correspondente ao seu número USP na forma de uma matriz $7\\times 6$ e imprima esta matriz. Isto ajudará a verificar se você pegou os dados corretos, pois na segunda coluna deve haver 7 números iguais correspondentes ao instante de medida."
      ]
    },
    {
      "cell_type": "code",
      "execution_count": null,
      "metadata": {
        "id": "WkxNLQ-hpuHT"
      },
      "outputs": [
        {
          "ename": "ModuleNotFoundError",
          "evalue": "No module named 'gdown'",
          "output_type": "error",
          "traceback": [
            "\u001b[1;31m---------------------------------------------------------------------------\u001b[0m",
            "\u001b[1;31mModuleNotFoundError\u001b[0m                       Traceback (most recent call last)",
            "Cell \u001b[1;32mIn[125], line 2\u001b[0m\n\u001b[0;32m      1\u001b[0m \u001b[38;5;66;03m# Leitura do arquivo input_gps.txt, salvando o conteúdo em input_gps\u001b[39;00m\n\u001b[1;32m----> 2\u001b[0m \u001b[38;5;28;01mimport\u001b[39;00m \u001b[38;5;21;01mgdown\u001b[39;00m\n\u001b[0;32m      4\u001b[0m \u001b[38;5;66;03m# Only the file ID goes here\u001b[39;00m\n\u001b[0;32m      5\u001b[0m file_id \u001b[38;5;241m=\u001b[39m \u001b[38;5;124m'\u001b[39m\u001b[38;5;124m1NRvx1o3hlQiwVsigVSQ2zJ_MecG78Pbu\u001b[39m\u001b[38;5;124m'\u001b[39m\n",
            "\u001b[1;31mModuleNotFoundError\u001b[0m: No module named 'gdown'"
          ]
        }
      ],
      "source": [
        "# Leitura do arquivo input_gps.txt, salvando o conteúdo em input_gps\n",
        "import gdown\n",
        "\n",
        "# Only the file ID goes here\n",
        "file_id = '1NRvx1o3hlQiwVsigVSQ2zJ_MecG78Pbu'\n",
        "url = f'https://drive.google.com/uc?id={file_id}&confirm=t'\n",
        "\n",
        "# Download the file\n",
        "gdown.download(url, 'input_gps.txt', quiet=False)\n",
        "\n",
        "# Load it with NumPy\n",
        "import numpy as np\n",
        "input_gps = np.loadtxt('input_gps.txt')"
      ]
    },
    {
      "cell_type": "code",
      "execution_count": null,
      "metadata": {
        "id": "oNE86nt2DUGC"
      },
      "outputs": [],
      "source": [
        "# Instante das medições\n",
        "tm = #***COMPLETAR (tm = (NUSP % 5) * 15)\n",
        "print('tm =', tm)\n",
        "print()\n",
        "\n",
        "# Extração dos dados para o instante tm do array input_gps\n",
        "meus_dados = #***COMPLETAR (mude o nome, se quiser)\n",
        "\n",
        "# Impressão (restringindo a precisão para caber na tela)\n",
        "for row in meus_dados:\n",
        "    # First two columns as integers\n",
        "    print(f\"{int(row[0]):3d} {int(row[1]):3d} \", end=\"\")\n",
        "\n",
        "    # Remaining columns with seven significant figures\n",
        "    print(\" \".join(f\"{val:15.6e}\" for val in row[2:]))"
      ]
    },
    {
      "cell_type": "markdown",
      "metadata": {
        "id": "YfIg1sA2Y9nZ"
      },
      "source": [
        "2. Você irá trabalhar somente com as terceira, quarta, quinta e sexta colunas da matriz de dados do item 1. Com estes dados, construa o sistema linear sobredeterminado $(3)$ e **resolva o sistema normal usando a decomposição** $LU$ que você implementou. Armazene e imprima a solução. Ela será usada como condição inicial para o Método de Newton.\n",
        "\n"
      ]
    },
    {
      "cell_type": "code",
      "execution_count": null,
      "metadata": {
        "id": "g243nyBq7Bhs"
      },
      "outputs": [],
      "source": [
        "#***IMLEMENTE AQUI A SOLUÇÃO DO SISTEMA NORMAL (a resposta deve ser um array com 4 elementos)\n",
        "\n",
        "# Impressão (assumindo que a solução foi armazenada no array x_normal)\n",
        "print('Solução do sistema normal:', \"\".join(f\"{val:15.6e}\" for val in x_normal))"
      ]
    },
    {
      "cell_type": "markdown",
      "metadata": {
        "id": "yNutXz71CpNK"
      },
      "source": [
        "3. Com os mesmos dados do item anterior, programe duas funções: uma para $F=\\nabla g$ (queremos achar raízes da equação $(2)$) e outra para a matriz Jacobiana $J_F$ de $F$. Resolva o sistema não linear $F(\\mathbf{x})=0$ para obter a solução $\\bar{\\mathbf{x}} = (\\bar x, \\bar y, \\bar z, \\bar w)$ da equação $(2)$ usando a implementação do Método de Newton descrita acima. Armazene e imprima a solução, e imprima separadamente o erro de sincronia $T=\\bar w / c$. Qual é o erro relativo entre as soluções de $(2)$ e $(3)$?\n",
        "\n"
      ]
    },
    {
      "cell_type": "code",
      "execution_count": null,
      "metadata": {
        "id": "DTKmI9TEC6DG"
      },
      "outputs": [],
      "source": [
        "iteraçõesão usados\n",
        "xyzw = #***COMPLETAR (matriz (7 x 4) com dados dos 7 satélites)\n",
        "\n",
        "# Função que calcula a o valor de F(x), em que x é um array com elementos\n",
        "def F(x):\n",
        "  #***IMPLEMENTAÇÃO AQUI (TAMBÉM USA VALORES DE XYZW)\n",
        "\n",
        "# FUNÇÃO QUE CALCULA A MATRIZ JACOBIANA JF(x), em que x é um array com elementos\n",
        "def JF(x):\n",
        "  #***IMPLEMENTAÇÃO AQUI (TAMBÉM USA VALORES DE XYZW)\n",
        "\n",
        "# Resolução do sistema não linear usando o Método de Newton\n",
        "#***       IMPLEMENTAÇÃO AQUI\n",
        "\n",
        "# Imprima a solução\n",
        "print(#***COMPLETAR)\n",
        "\n",
        "# Imprima T\n",
        "print(#***COMPLETAR)\n",
        "\n",
        "# Imprima o erro relativo entre a solução do sistema normal e a solução\n",
        "# do sistema não linear\n",
        "\n",
        "#***COMANDOS AQUI"
      ]
    },
    {
      "cell_type": "markdown",
      "metadata": {
        "id": "pRdhiUj9HtJc"
      },
      "source": [
        "4. Para as soluções de $(2)$ e $(3)$, determine as latitudes, longitudes e elevações (coordenadas geográficas) e localize-as no globo terrestre."
      ]
    },
    {
      "cell_type": "code",
      "execution_count": null,
      "metadata": {
        "id": "agsMkodAIKdA"
      },
      "outputs": [],
      "source": [
        "#Contas (descubra como fazê-las)"
      ]
    },
    {
      "cell_type": "markdown",
      "metadata": {
        "id": "eH2C5unZIj_I"
      },
      "source": [
        "Latidude, longitude e elevação correspondentes à solução do sistema normal:\n",
        "\n",
        "**Resposta**\n",
        "\n",
        "Latidude, longitude e elevação correspondentes à solução do sistema não linear:\n",
        "\n",
        "**Resposta**"
      ]
    },
    {
      "cell_type": "markdown",
      "metadata": {
        "id": "SAB6AYToIRFz"
      },
      "source": []
    }
  ],
  "metadata": {
    "colab": {
      "provenance": [],
      "toc_visible": true
    },
    "kernelspec": {
      "display_name": "base",
      "language": "python",
      "name": "python3"
    },
    "language_info": {
      "codemirror_mode": {
        "name": "ipython",
        "version": 3
      },
      "file_extension": ".py",
      "mimetype": "text/x-python",
      "name": "python",
      "nbconvert_exporter": "python",
      "pygments_lexer": "ipython3",
      "version": "3.11.5"
    }
  },
  "nbformat": 4,
  "nbformat_minor": 0
}
